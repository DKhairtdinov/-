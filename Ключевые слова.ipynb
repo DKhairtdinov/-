{
 "cells": [
  {
   "cell_type": "code",
   "execution_count": 1,
   "metadata": {},
   "outputs": [
    {
     "name": "stderr",
     "output_type": "stream",
     "text": [
      "[nltk_data] Downloading package stopwords to\n",
      "[nltk_data]     C:\\Users\\HomePC\\AppData\\Roaming\\nltk_data...\n",
      "[nltk_data]   Package stopwords is already up-to-date!\n"
     ]
    }
   ],
   "source": [
    "import re\n",
    "import pymorphy2\n",
    "import collections\n",
    "import pandas as pd\n",
    "import csv\n",
    "import nltk\n",
    "nltk.download('stopwords')\n",
    "from nltk.corpus import stopwords"
   ]
  },
  {
   "cell_type": "code",
   "execution_count": 2,
   "metadata": {},
   "outputs": [],
   "source": [
    "#читаем текст из файла и выделяем в нем слова\n",
    "file = open('input.txt', 'r')\n",
    "text = file.read();\n",
    "words = re.findall(r\"[ёЁа-яА-Я]+-[ёЁа-яА-Я]+|[ёЁа-яА-Я]+\", text); "
   ]
  },
  {
   "cell_type": "code",
   "execution_count": 3,
   "metadata": {},
   "outputs": [],
   "source": [
    "#нормализация слов\n",
    "norm_words = []\n",
    "morph = pymorphy2.MorphAnalyzer()\n",
    "for word in words:\n",
    "    word = word.lower() \n",
    "    norm_words.append(morph.parse(word)[0].normal_form)   "
   ]
  },
  {
   "cell_type": "code",
   "execution_count": 4,
   "metadata": {},
   "outputs": [],
   "source": [
    "#исключаем стоп-слова\n",
    "words = norm_words\n",
    "rus_stopwords=stopwords.words('russian')\n",
    "words = [item for item in words if item not in rus_stopwords]"
   ]
  },
  {
   "cell_type": "code",
   "execution_count": 5,
   "metadata": {},
   "outputs": [],
   "source": [
    "#считаем слова в тексте\n",
    "words_set =  set(words)\n",
    "words_cnt = {}\n",
    "for w in words_set:\n",
    "    words_cnt[w] = words.count(w)    "
   ]
  },
  {
   "cell_type": "code",
   "execution_count": 6,
   "metadata": {},
   "outputs": [],
   "source": [
    "#сортируем словарь слов по ключу\n",
    "words_cnt = collections.OrderedDict(sorted(words_cnt.items()))\n",
    "words_cnt = dict(words_cnt)"
   ]
  },
  {
   "cell_type": "code",
   "execution_count": 7,
   "metadata": {},
   "outputs": [],
   "source": [
    "#запись в файл\n",
    "word_itself=[]\n",
    "word_cnt=[]\n",
    "for key, value in words_cnt.items():\n",
    "    word_itself.append(key)\n",
    "    word_cnt.append(value)\n",
    "words_write = pd.DataFrame({'Слово':word_itself, 'Количество':word_cnt})    \n",
    "\n",
    "words_write.to_excel('test.xlsx', sheet_name='sheet1', index=False)"
   ]
  }
 ],
 "metadata": {
  "kernelspec": {
   "display_name": "Python 3",
   "language": "python",
   "name": "python3"
  },
  "language_info": {
   "codemirror_mode": {
    "name": "ipython",
    "version": 3
   },
   "file_extension": ".py",
   "mimetype": "text/x-python",
   "name": "python",
   "nbconvert_exporter": "python",
   "pygments_lexer": "ipython3",
   "version": "3.7.3"
  }
 },
 "nbformat": 4,
 "nbformat_minor": 2
}
